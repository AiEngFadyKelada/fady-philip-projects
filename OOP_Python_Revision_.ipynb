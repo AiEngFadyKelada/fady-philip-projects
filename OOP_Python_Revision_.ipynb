{
  "nbformat": 4,
  "nbformat_minor": 0,
  "metadata": {
    "colab": {
      "provenance": []
    },
    "kernelspec": {
      "name": "python3",
      "display_name": "Python 3"
    },
    "language_info": {
      "name": "python"
    }
  },
  "cells": [
    {
      "cell_type": "code",
      "execution_count": null,
      "metadata": {
        "id": "ufLLOZb-KnB0",
        "colab": {
          "base_uri": "https://localhost:8080/"
        },
        "outputId": "2379d403-63f4-4978-ffd8-867a49ea2722"
      },
      "outputs": [
        {
          "output_type": "execute_result",
          "data": {
            "text/plain": [
              "[[1, 2, 3], [4, 5, 6], [7, 8, 9]]"
            ]
          },
          "metadata": {},
          "execution_count": 1
        }
      ],
      "source": [
        "m=[1,2,3]\n",
        "i=[4,5,6]\n",
        "u=[7,8,9]\n",
        "matrix =[m,i,u]\n",
        "matrix"
      ]
    },
    {
      "cell_type": "code",
      "source": [
        "matrix[2][0]"
      ],
      "metadata": {
        "id": "uloZvefwMGig",
        "colab": {
          "base_uri": "https://localhost:8080/"
        },
        "outputId": "90fcaf83-8a37-4ec6-fdff-841a62154f58"
      },
      "execution_count": null,
      "outputs": [
        {
          "output_type": "execute_result",
          "data": {
            "text/plain": [
              "7"
            ]
          },
          "metadata": {},
          "execution_count": 4
        }
      ]
    },
    {
      "cell_type": "code",
      "source": [
        "t=(2,3,4,1,3,5)\n",
        "r=tuple(t)\n",
        "m=r*2\n",
        "m\n"
      ],
      "metadata": {
        "id": "J6bNHOmoMGry",
        "colab": {
          "base_uri": "https://localhost:8080/"
        },
        "outputId": "f2600fee-f5ba-432e-9c67-1fe13653aaf3"
      },
      "execution_count": null,
      "outputs": [
        {
          "output_type": "execute_result",
          "data": {
            "text/plain": [
              "(2, 3, 4, 1, 3, 5, 2, 3, 4, 1, 3, 5)"
            ]
          },
          "metadata": {},
          "execution_count": 1
        }
      ]
    },
    {
      "cell_type": "code",
      "source": [
        "fruits=['cherry','banana','mango']\n",
        "m= [x for x in fruits if \"c\" in x]\n",
        "print(m)\n"
      ],
      "metadata": {
        "id": "BnZMSDWWMG2R",
        "colab": {
          "base_uri": "https://localhost:8080/"
        },
        "outputId": "53c5c967-aba1-4769-8f8e-f5004a16a986"
      },
      "execution_count": null,
      "outputs": [
        {
          "output_type": "stream",
          "name": "stdout",
          "text": [
            "['cherry']\n"
          ]
        }
      ]
    },
    {
      "cell_type": "code",
      "source": [
        "x=\"apple hi welcome school apple\"\n",
        "t=x.count('apple',0,30)\n",
        "print(t)"
      ],
      "metadata": {
        "id": "ikl30kZXMG-8",
        "colab": {
          "base_uri": "https://localhost:8080/"
        },
        "outputId": "5005199a-7c16-4d31-966c-66a44eb4ec4e"
      },
      "execution_count": null,
      "outputs": [
        {
          "output_type": "stream",
          "name": "stdout",
          "text": [
            "2\n"
          ]
        }
      ]
    },
    {
      "cell_type": "code",
      "source": [
        "x=\"apple hi welcome school apple\"\n",
        "t=x.find('welcome')\n",
        "c=x.index('w')\n",
        "print(t)\n",
        "print(c)"
      ],
      "metadata": {
        "id": "Ie68bVoCMHHk",
        "colab": {
          "base_uri": "https://localhost:8080/"
        },
        "outputId": "b629681d-ea1b-4058-b97c-8654051b123e"
      },
      "execution_count": null,
      "outputs": [
        {
          "output_type": "stream",
          "name": "stdout",
          "text": [
            "9\n",
            "9\n"
          ]
        }
      ]
    },
    {
      "cell_type": "code",
      "source": [
        "y=x.lower()\n",
        "j=x.upper()\n",
        "print(y)\n",
        "print(j)"
      ],
      "metadata": {
        "id": "oP_kLQdlMHUm",
        "colab": {
          "base_uri": "https://localhost:8080/"
        },
        "outputId": "049a4401-e364-4e14-d2f1-2eb1ff0ecdb2"
      },
      "execution_count": null,
      "outputs": [
        {
          "output_type": "stream",
          "name": "stdout",
          "text": [
            "apple hi welcome school apple\n",
            "APPLE HI WELCOME SCHOOL APPLE\n"
          ]
        }
      ]
    },
    {
      "cell_type": "code",
      "source": [
        "s=j.replace(\"APPLE\",\"Fady\")\n",
        "s\n"
      ],
      "metadata": {
        "colab": {
          "base_uri": "https://localhost:8080/",
          "height": 36
        },
        "id": "QIhB4Un9mGBX",
        "outputId": "64f64364-cd14-4077-f70f-5da05ed8bda0"
      },
      "execution_count": null,
      "outputs": [
        {
          "output_type": "execute_result",
          "data": {
            "text/plain": [
              "'Fady HI WELCOME SCHOOL Fady'"
            ],
            "application/vnd.google.colaboratory.intrinsic+json": {
              "type": "string"
            }
          },
          "metadata": {},
          "execution_count": 29
        }
      ]
    },
    {
      "cell_type": "code",
      "source": [
        "name=\"Fady\"\n",
        "age=\"15\"\n",
        "city=\"mansora\"\n",
        "print(\"Hi my name is {}, and I'm {} years old,I come from {} .\".format(name,age,city))\n"
      ],
      "metadata": {
        "colab": {
          "base_uri": "https://localhost:8080/"
        },
        "id": "zQ1x74wymGIO",
        "outputId": "6affdf85-0d57-4aec-8887-36e81becc0ca"
      },
      "execution_count": null,
      "outputs": [
        {
          "output_type": "stream",
          "name": "stdout",
          "text": [
            "Hi my name is Fady, and I'm 15 years old,I come from mansora .\n"
          ]
        }
      ]
    },
    {
      "cell_type": "code",
      "source": [
        "dict.update\n",
        "dict.copy\n",
        "dict.Items\n",
        "dict.Values\n",
        "dict.Keys\n",
        "dict.pop"
      ],
      "metadata": {
        "id": "amTTqgLUmGQ3"
      },
      "execution_count": null,
      "outputs": []
    },
    {
      "cell_type": "code",
      "source": [],
      "metadata": {
        "id": "GR7i4sGTmGX5"
      },
      "execution_count": null,
      "outputs": []
    },
    {
      "cell_type": "code",
      "source": [
        "class Car:\n",
        "  color=\" \"\n",
        "  name=\" \"\n",
        "  year=\" \"\n",
        "  Energy=\" \"\n",
        "\n",
        "  def moveforward(self):\n",
        "    print(f\"the car {self.name} moves forward\")\n",
        "  def backward(self):\n",
        "    print(f\"the car {self.name} moves backward\")\n",
        "  def turnsleft(self):\n",
        "    print(f\"the car {self.name} turns left\")\n",
        "  def turnsright(self):\n",
        "    print(f\"the car {self.name} turns right\\n\\n\\n\")\n",
        "\n",
        "car1= Car()\n",
        "car1.name=\"Kia serato\"\n",
        "car1.color=\"red\"\n",
        "car1.year=\"1905\"\n",
        "car1.Energy=\"Electric battery\"\n",
        "\n",
        "car1.moveforward()\n",
        "car1.backward()\n",
        "car1.turnsleft()\n",
        "car1.turnsright()\n",
        "\n",
        "\n",
        "\n",
        "car2= Car()\n",
        "car2.name=\"Mercedes Benz\"\n",
        "car2.color=\"Black\"\n",
        "car2.year=\"1865\"\n",
        "car2.Energy=\"Benzin\"\n",
        "\n",
        "car2.moveforward()\n",
        "car2.backward()\n",
        "car2.turnsleft()\n",
        "car2.turnsright()\n",
        "\n"
      ],
      "metadata": {
        "id": "7Duz-XpQmGeH",
        "colab": {
          "base_uri": "https://localhost:8080/"
        },
        "outputId": "a7d9330e-4887-4099-890c-c7da78d4ba15"
      },
      "execution_count": null,
      "outputs": [
        {
          "output_type": "stream",
          "name": "stdout",
          "text": [
            "the car Kia serato moves forward\n",
            "the car Kia serato moves backward\n",
            "the car Kia serato turns left\n",
            "the car Kia serato turns right\n",
            "\n",
            "\n",
            "\n",
            "the car Mercedes Benz moves forward\n",
            "the car Mercedes Benz moves backward\n",
            "the car Mercedes Benz turns left\n",
            "the car Mercedes Benz turns right\n",
            "\n",
            "\n",
            "\n"
          ]
        }
      ]
    },
    {
      "cell_type": "code",
      "source": [
        "class Car:\n",
        "  def __init__(self,name,year,color,energy):\n",
        "    self.name=name\n",
        "    self.year=year\n",
        "    self.color=color\n",
        "    self.energy=energy\n",
        "\n",
        "  def moveforward(self):\n",
        "    print(\"the car {} moves forward\".format(self.name))\n",
        "  def movebackward(self):\n",
        "    print(f\"the car {self.name} moves backward\")\n",
        "  def turnsright(self):\n",
        "    print(f\"the car {self.name} turns right\")\n",
        "  def turnsleft(self):\n",
        "    print(f\"the car {self.name} turns left\\n\\n\\n\")\n",
        "\n",
        "\n",
        "car1=Car(\"Kia serato\",\"1905\",\"black\",\"Benzine\")\n",
        "\n",
        "car1.moveforward()\n",
        "car1.movebackward()\n",
        "car1.turnsright()\n",
        "car1.turnsleft()\n",
        "\n"
      ],
      "metadata": {
        "id": "f-tRZ0rnmHOl",
        "colab": {
          "base_uri": "https://localhost:8080/"
        },
        "outputId": "07d24f1b-795b-4dbe-9d6b-c4918a6ecfd0"
      },
      "execution_count": null,
      "outputs": [
        {
          "output_type": "stream",
          "name": "stdout",
          "text": [
            "the car Kia serato moves forward\n",
            "the car Kia serato moves backward\n",
            "the car Kia serato turns right\n",
            "the car Kia serato turns left\n",
            "\n",
            "\n",
            "\n"
          ]
        }
      ]
    },
    {
      "cell_type": "code",
      "source": [
        "class Person:\n",
        "  def __init__(self,name,height,age,weight,birthdate):\n",
        "    self.name=name\n",
        "    self.height=height\n",
        "    self.age=age\n",
        "    self.weight=weight\n",
        "    self.birthdate=birthdate\n",
        "  def mytall(self):\n",
        "    print(f\"I am {self.height} cm tall\")\n",
        "  def myname(self):\n",
        "    print(f\"my name is {self.name}\")\n",
        "  def myweight(self):\n",
        "    print(f\"I weigh around {self.weight} KGs.\")\n",
        "  def mybirthdate(self):\n",
        "    print(f\"I was born in {self.birthdate} !!\")\n",
        "  def myage(self):\n",
        "    print(f\", And of Course I'm {self.age} years old !!\")\n",
        "\n",
        "\n",
        "person1=Person(\"Fady Philippe\",\"164\",\"22\",\"55\",\"31-3-2001\")\n",
        "\n",
        "person1.myname()\n",
        "person1.myage()\n",
        "person1.myweight()\n",
        "person1.mytall()\n",
        "person1.mybirthdate()\n"
      ],
      "metadata": {
        "id": "AamfBzsqmHXz",
        "colab": {
          "base_uri": "https://localhost:8080/"
        },
        "outputId": "69f623ee-d40c-4102-b2fc-56ac08d1721a"
      },
      "execution_count": null,
      "outputs": [
        {
          "output_type": "stream",
          "name": "stdout",
          "text": [
            "my name is Fady Philippe\n",
            ", And of Course I'm 22 years old !!\n",
            "I weigh around 55 KGs.\n",
            "I am 164 cm tall\n",
            "I was born in 31-3-2001 !!\n"
          ]
        }
      ]
    },
    {
      "cell_type": "code",
      "source": [],
      "metadata": {
        "id": "CzdqYBEOmHdf"
      },
      "execution_count": null,
      "outputs": []
    },
    {
      "cell_type": "code",
      "source": [
        "#Multiple Level Inheritances (Example) :\n",
        "\n",
        "class Philippe:\n",
        "  def __init__(self,Name,Hair_Color,Skin_Color,Height,Talents):\n",
        "    self.Name=Name\n",
        "    self.Hair_Color=Hair_Color\n",
        "    self.Skin_Color=Skin_Color\n",
        "    self.Height=Height\n",
        "    self.Talents=Talents\n",
        "  def ID_Card(self):\n",
        "     print(f\"My name is {self.Name}.\\nmy hair color is {self.Hair_Color}.\\nIam a {self.Skin_Color} Colored man.\\nI am {self.Height} cm height.\\nI can {self.Talents} brightly!!\")\n",
        "\n",
        "person1 =Philippe(\"Philippe Mazouz\",\"Black\",\"light Ebony\",\"170\",\"paint\")\n",
        "person1.ID_Card()\n",
        "\n",
        "class Sozet:\n",
        "  def __init__(self,Name,Hair_Color,Skin_Color,Height,Talents):\n",
        "    self.Name=Name\n",
        "    self.Hair_Color=Hair_Color\n",
        "    self.Skin_Color=Skin_Color\n",
        "    self.Height=Height\n",
        "    self.Talents=Talents\n",
        "  def ID_Card(self):\n",
        "    print(f\"\\n\\n\\n\\nMy name is {self.Name}.\\nMy hair color is {self.Hair_Color}.\\nI am a {self.Skin_Color} Colored woman.\\nI am {self.Height} cm height.\\nI can {self.Talents} brightly !!\")\n",
        "\n",
        "\n",
        "person2=Sozet(\"Sozet\",\"Brown\",\"Tanned\",\"152\",\"cook\")\n",
        "person2.ID_Card()\n",
        "\n",
        "\n",
        "class Fady(Philippe,Sozet):\n",
        " def __init__(self,Name,Hair_Color,Skin_Color,Height,Talents,Sex,IQ,Weight):\n",
        "   Philippe.__init__(self,Name,Hair_Color,Skin_Color,Height,Talents)\n",
        "   Sozet.__init__(self,Name,Hair_Color,Skin_Color,Height,Talents)\n",
        "   self.Sex=Sex\n",
        "   self.IQ=IQ\n",
        "   self.Weight=Weight\n",
        " def ID_Card(self):\n",
        "    print(f\"\\n\\n\\n\\nMy name is {self.Name}.\\nMy hair color is {self.Hair_Color}.\\nI am a {self.Skin_Color} Colored man.\\nI am {self.Height} cm height.\\nI can {self.Talents} brightly.\\nI am a {self.Sex}.\\nMy IQ is {self.IQ} point.\\nI am {self.Weight} KGs!!\\n\")\n",
        "\n",
        "\n",
        "person3=Fady(\"Fady Philippe Mazouz\",\"Dark Brown\",\"Dark Tanned\",\"164\",\"Paint\",\"Male\",\"114\",\"55\")\n",
        "person3.ID_Card()\n",
        "\n",
        "\n",
        "class John(Philippe,Sozet):\n",
        " def __init__(self,Name,Hair_Color,Skin_Color,Height,Talents,Sex,IQ,Weight,Blood_Type):\n",
        "    Philippe.__init__(self,Name,Hair_Color,Skin_Color,Height,Talents)\n",
        "    Sozet.__init__(self,Name,Hair_Color,Skin_Color,Height,Talents)\n",
        "    self.Sex=Sex\n",
        "    self.IQ=IQ\n",
        "    self.Weight=Weight\n",
        "    self.Blood_Type=Blood_Type\n",
        " def ID_Card(self):\n",
        "    print(f\"\\n\\n\\n\\nMy name is {self.Name}.\\nMy hair color is {self.Hair_Color}.\\nI am a {self.Skin_Color} Colored man.\\nI am {self.Height} cm height.\\nI can {self.Talents} brightly.\\nI am a {self.Sex}.\\nMy IQ is {self.IQ} yet.\\nI am {self.Weight} KGs!!\\nMy blood type is {self.Blood_Type}.\\n\\n\\n\\n\")\n",
        "\n",
        "person4=John(\"John Philippe Mazouz\",\"black\",\"light ebony\",\"170\",\"draw\",\"male\",\"Unknown\",\"83\",\"O-\")\n",
        "person4.ID_Card()\n"
      ],
      "metadata": {
        "id": "p_bk0WDlmHj7",
        "colab": {
          "base_uri": "https://localhost:8080/"
        },
        "outputId": "6fc5bc67-b9b6-44c3-bdfc-28e45369d785"
      },
      "execution_count": null,
      "outputs": [
        {
          "output_type": "stream",
          "name": "stdout",
          "text": [
            "My name is Philippe Mazouz.\n",
            "my hair color is Black.\n",
            "Iam a light Ebony Colored man.\n",
            "I am 170 cm height.\n",
            "I can paint brightly!!\n",
            "\n",
            "\n",
            "\n",
            "\n",
            "My name is Sozet.\n",
            "My hair color is Brown.\n",
            "I am a Tanned Colored woman.\n",
            "I am 152 cm height.\n",
            "I can cook brightly !!\n",
            "\n",
            "\n",
            "\n",
            "\n",
            "My name is Fady Philippe Mazouz.\n",
            "My hair color is Dark Brown.\n",
            "I am a Dark Tanned Colored man.\n",
            "I am 164 cm height.\n",
            "I can Paint brightly.\n",
            "I am a Male.\n",
            "My IQ is 114 point.\n",
            "I am 55 KGs!!\n",
            "\n",
            "\n",
            "\n",
            "\n",
            "\n",
            "My name is John Philippe Mazouz.\n",
            "My hair color is black.\n",
            "I am a light ebony Colored man.\n",
            "I am 170 cm height.\n",
            "I can draw brightly.\n",
            "I am a male.\n",
            "My IQ is Unknown yet.\n",
            "I am 83 KGs!!\n",
            "My blood type is O-.\n",
            "\n",
            "\n",
            "\n",
            "\n"
          ]
        }
      ]
    },
    {
      "cell_type": "code",
      "source": [],
      "metadata": {
        "id": "Qs8ceER2mHsM"
      },
      "execution_count": null,
      "outputs": []
    },
    {
      "cell_type": "code",
      "source": [
        "#Multilevel Inheritance (example) :\n",
        "\n",
        "class Mazouz:\n",
        "  def __init__(self,Name,Blood_Type,Height,Talent):\n",
        "    self.Name=Name\n",
        "    self.Blood_Type=Blood_Type\n",
        "    self.Height=Height\n",
        "    self.Talent=Talent\n",
        "\n",
        "  def Id_Card(self):\n",
        "    print(\"My name is {0}.\\nMy Blood type is {1}.\\nI'm {2} CM Height.\\nMy talent is {3}\\n\\n\\n\".format(self.Name,self.Blood_Type,self.Height,self.Talent))\n",
        "\n",
        "Grand_Father=Mazouz(\"Mazouz Tobia Kelada\",\"O-\",\"155\",\"painting\")\n",
        "Grand_Father.Id_Card()\n",
        "\n",
        "class Philippe(Mazouz):\n",
        "  def __init__(self,Name,Blood_Type,Height,Talent,Hair_Color,Skin_Color,Job_Title):\n",
        "    super().__init__(Name,Blood_Type,Height,Talent)\n",
        "    self.Hair_Color=Hair_Color\n",
        "    self.Skin_Color=Skin_Color\n",
        "    self.Job_Title=Job_Title\n",
        "\n",
        "  def Id_Card(self):\n",
        "    print(\"My name is {0}.\\nMy Blood type is {1}.\\nI'm {2} CM Height.\\nMy talent is {3}.\\nMy hair color is {4}.\\nI'm {5} Colored man.\\nI work as {6}\\n\\n\\n\".format(self.Name,self.Blood_Type,self.Height,self.Talent,self.Hair_Color,self.Skin_Color,self.Job_Title))\n",
        "\n",
        "\n",
        "son=Philippe(\"Philippe Mazouz Tobia\",\"O-\",\"170\",\"painting\",\"black\",\"dark toned\",\"High Priest\")\n",
        "son.Id_Card()\n",
        "\n",
        "class John(Philippe):\n",
        "  def __init__(self,Name,Blood_Type,Height,Talent,Hair_Color,Skin_Color,Job_Title,Sex_Type,Foot_Size,Wife):\n",
        "    super().__init__(Name,Blood_Type,Height,Talent,Hair_Color,Skin_Color,Job_Title)\n",
        "    self.Sex_Type=Sex_Type\n",
        "    self.Foot_Size=Foot_Size\n",
        "    self.Wife=Wife\n",
        "  def Id_Card(self):\n",
        "    print(\"My name is {0}.\\nMy Blood type is {1}.\\nI'm {2} CM Height.\\nMy talent is {3}.\\nMy hair color is {4}.\\nI'm {5} Colored man.\\nI work as a {6}.\\n I am a {7}.\\nMy foot size is {8} cm.\\nMy beloved  wife is {9}.\\n\\n\\n\\n\".format(self.Name,self.Blood_Type,self.Height,self.Talent,self.Hair_Color,self.Skin_Color,self.Job_Title,self.Sex_Type,self.Foot_Size,self.Wife))\n",
        "\n",
        "\n",
        "Grand_Son=John(\"John Philippe Mazouz Tobia\",\"o--\",\"170\",\"drawing\",\"Black\",\"light ebony\",\"Doctor\",\"Male\",\"43\",\"Rose\")\n",
        "Grand_Son.Id_Card()\n",
        "\n",
        "\n",
        "\n",
        "class Fady(Philippe):\n",
        "  def __init__(self,Name,Blood_Type,Height,Talent,Hair_Color,Skin_Color,Job_Title,Life_Diseases,Interesting_Fields,Personality_Type):\n",
        "    super().__init__(Name,Blood_Type,Height,Talent,Hair_Color,Skin_Color,Job_Title)\n",
        "    self.Life_Diseases=Life_Diseases\n",
        "    self.Interesting_Fields=Interesting_Fields\n",
        "    self.Personality_Type=Personality_Type\n",
        "  def Id_Card(self):\n",
        "    print(\"My name is {0}.\\nMy Blood type is {1}.\\nI'm {2} CM Height.\\nMy talent is {3}.\\nMy hair color is {4}.\\nI'm {5} Colored man.\\nI work as a {6}.\\nI suffer from life diseases such as {7} .\\nThe most interesting fields that I adoure are {8}.\\nMy personality type is {9}\".format(self.Name,self.Blood_Type,self.Height,self.Talent,self.Hair_Color,self.Skin_Color,self.Job_Title,self.Life_Diseases,self.Interesting_Fields,self.Personality_Type))\n",
        "\n",
        "Grand_Son2=Fady(\"Fady Philippe Mazouz Tobia\",\"o--\",\"164\",\"drawing\",\"dark brown\",\"brunette\",\"Machine Learning Engineer\",\"Anxiety,reactive depression and Asthma\",\"Calculus,Linear Algebra,Stats,Art,and of Course Programming\",\"the Architect !!\")\n",
        "Grand_Son2.Id_Card()"
      ],
      "metadata": {
        "id": "CPiymHGOmH0d",
        "colab": {
          "base_uri": "https://localhost:8080/"
        },
        "outputId": "05d6030c-2bec-4060-9645-384de1125e8e"
      },
      "execution_count": null,
      "outputs": [
        {
          "output_type": "stream",
          "name": "stdout",
          "text": [
            "My name is Mazouz Tobia Kelada.\n",
            "My Blood type is O-.\n",
            "I'm 155 CM Height.\n",
            "My talent is painting\n",
            "\n",
            "\n",
            "\n",
            "My name is Philippe Mazouz Tobia.\n",
            "My Blood type is O-.\n",
            "I'm 170 CM Height.\n",
            "My talent is painting.\n",
            "My hair color is black.\n",
            "I'm dark toned Colored man.\n",
            "I work as High Priest\n",
            "\n",
            "\n",
            "\n",
            "My name is John Philippe Mazouz Tobia.\n",
            "My Blood type is o--.\n",
            "I'm 170 CM Height.\n",
            "My talent is drawing.\n",
            "My hair color is Black.\n",
            "I'm light ebony Colored man.\n",
            "I work as a Doctor.\n",
            " I am a Male.\n",
            "My foot size is 43 cm.\n",
            "My beloved  wife is Rose.\n",
            "\n",
            "\n",
            "\n",
            "\n",
            "My name is Fady Philippe Mazouz Tobia.\n",
            "My Blood type is o--.\n",
            "I'm 164 CM Height.\n",
            "My talent is drawing.\n",
            "My hair color is dark brown.\n",
            "I'm brunette Colored man.\n",
            "I work as a Machine Learning Engineer.\n",
            "I suffer from life diseases such as Anxiety,reactive depression and Asthma .\n",
            "The most interesting fields that I adoure are Calculus,Linear Algebra,Stats,Art,and of Course Programming.\n",
            "My personality type is the Architect !!\n"
          ]
        }
      ]
    },
    {
      "cell_type": "code",
      "source": [],
      "metadata": {
        "id": "rDn39M-omH8X"
      },
      "execution_count": null,
      "outputs": []
    },
    {
      "cell_type": "code",
      "source": [
        "class Father:\n",
        "  def __init__(self,haircolor,bloodtype,skincolor):\n",
        "    self._haircolor=haircolor\n",
        "    self._bloodtype=bloodtype\n",
        "    self._skincolor=skincolor\n",
        "  def form(self):\n",
        "    print(f\"My hair color is {self._haircolor}.\\nMy blood type is {self._bloodtype} .\\nMy skin color is {self._skincolor}.\\n\")\n",
        "\n",
        "person1=Father(\"red\",\"o--\",\"white\")\n",
        "person1.form()\n",
        "\n",
        "\n",
        "class Son1(Father):\n",
        "  def __init__(self,haircolor,bloodtype,skincolor,ethincity,personality,age):\n",
        "    super().__init__(haircolor,bloodtype,skincolor)\n",
        "    self.ethincity=ethincity\n",
        "    self.perosnality=personality\n",
        "    self.age=age\n",
        "\n",
        "\n",
        "person2 =Son1(\"black\",\"A++\",\"tanned\",\"african\",\"borderline\",\"22\")\n",
        "person2.form()\n"
      ],
      "metadata": {
        "id": "1F3zhY1WmID7",
        "colab": {
          "base_uri": "https://localhost:8080/"
        },
        "outputId": "d4d7033c-a349-4fd1-c4f3-5952ffffb981"
      },
      "execution_count": null,
      "outputs": [
        {
          "output_type": "stream",
          "name": "stdout",
          "text": [
            "My hair color is red.\n",
            "My blood type is o-- .\n",
            "My skin color is white.\n",
            "\n",
            "My hair color is black.\n",
            "My blood type is A++ .\n",
            "My skin color is tanned.\n",
            "\n"
          ]
        }
      ]
    },
    {
      "cell_type": "code",
      "source": [
        "class father:\n",
        "   def __init__(self,haircolor,bloodtype,skincolor):\n",
        "     self.__haircolor=\"red\"\n",
        "     self.__bloodtype=\"O+\"\n",
        "     self.__skincolor=\"white\"\n",
        "   def Hair_Color(self):\n",
        "    return self.__haircolor\n",
        "   def Blood_Type(self):\n",
        "    return self.__bloodtype\n",
        "   def Skin_Color(self):\n",
        "    return self.__skincolor\n",
        "\n",
        "\n",
        "person1= father(\"Black\",\"O+\",\"tanned\")\n",
        "print(f\"My hair color is {person1.Hair_Color()}.\\n My blood type is {person1.Blood_Type()}.\\nMy skin color is {person1.Skin_Color()}.\\n\\n\\n\")\n",
        "\n",
        "\n",
        "\n",
        "\n",
        "\n",
        "class son(father):\n",
        "  def __init__(self,haircolor,bloodtype,skincolor,ethincity,personality,age):\n",
        "    super().__init__(haircolor,bloodtype,skincolor)\n",
        "    self.ethincity=ethincity\n",
        "    self.personality=personality\n",
        "    self.age=age\n",
        "    self.haircolor=haircolor\n",
        "\n",
        "person2= son(\"red\",\"A+\",\"white\",\"European\",\"lone wolf\",\"12\")\n",
        "print(f\"My hair color is {person2.Hair_Color()}.\\n My blood type is {person2.Blood_Type()}.\\nMy skin color is {person2.Skin_Color()}.\\nMy ethincity is {person2.ethincity}.\\nMy personality type is {person2.personality}.\\nI'm {person2.age} Years old.\\n\\n\\n\")\n",
        "\n"
      ],
      "metadata": {
        "id": "BCrEQnT6mIKU",
        "colab": {
          "base_uri": "https://localhost:8080/"
        },
        "outputId": "2b2f2ede-ebe8-4a42-b956-dfb0d93b238e"
      },
      "execution_count": null,
      "outputs": [
        {
          "output_type": "stream",
          "name": "stdout",
          "text": [
            "My hair color is red.\n",
            " My blood type is O+.\n",
            "My skin color is white.\n",
            "\n",
            "\n",
            "\n",
            "My hair color is red.\n",
            " My blood type is O+.\n",
            "My skin color is white.\n",
            "My ethincity is European.\n",
            "My personality type is lone wolf.\n",
            "I'm 12 Years old.\n",
            "\n",
            "\n",
            "\n"
          ]
        }
      ]
    },
    {
      "cell_type": "code",
      "source": [],
      "metadata": {
        "id": "DEu1A0qRvmmk"
      },
      "execution_count": null,
      "outputs": []
    },
    {
      "cell_type": "code",
      "source": [
        "\n",
        "class father:\n",
        "  def __init__(self):\n",
        "    self._haircolor=\"Black\"\n",
        "\n",
        "\n",
        "\n",
        "class son(father):\n",
        "  def __init__(self):\n",
        "     super().__init__()\n",
        "\n",
        "\n",
        "\n",
        "class grandson(son):\n",
        "  def __init__(self):\n",
        "    super().__init__()\n",
        "\n",
        "person2=son()\n",
        "print(person2._haircolor)\n",
        "person3=grandson()\n",
        "print(person3._haircolor)\n"
      ],
      "metadata": {
        "colab": {
          "base_uri": "https://localhost:8080/"
        },
        "id": "0nZVjLZxvms9",
        "outputId": "e19138e1-1083-430c-f834-48aa1f310f5e"
      },
      "execution_count": null,
      "outputs": [
        {
          "output_type": "stream",
          "name": "stdout",
          "text": [
            "Black\n",
            "Black\n"
          ]
        }
      ]
    },
    {
      "cell_type": "code",
      "source": [],
      "metadata": {
        "id": "AbSlf79ty70u"
      },
      "execution_count": null,
      "outputs": []
    },
    {
      "cell_type": "code",
      "source": [],
      "metadata": {
        "id": "DzhszD8ay76i"
      },
      "execution_count": null,
      "outputs": []
    },
    {
      "cell_type": "code",
      "source": [],
      "metadata": {
        "id": "wAIxp1iay8Bf"
      },
      "execution_count": null,
      "outputs": []
    },
    {
      "cell_type": "code",
      "source": [],
      "metadata": {
        "id": "g2FjEJs4y8HN"
      },
      "execution_count": null,
      "outputs": []
    }
  ]
}