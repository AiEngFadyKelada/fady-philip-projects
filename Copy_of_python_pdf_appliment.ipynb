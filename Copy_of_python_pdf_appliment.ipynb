{
  "cells": [
    {
      "cell_type": "code",
      "execution_count": null,
      "metadata": {
        "colab": {
          "base_uri": "https://localhost:8080/"
        },
        "id": "kC-izeCKlynY",
        "outputId": "fec1c310-ed8f-46ee-80ee-5c924b200128"
      },
      "outputs": [
        {
          "name": "stdout",
          "output_type": "stream",
          "text": [
            "  1.9920979817708332e+18\n"
          ]
        }
      ],
      "source": [
        "G=6.67*pow(10,-13)\n",
        "m=6*pow(10,24)\n",
        "M=7.34*pow(10,22)\n",
        "r=3.84*pow(10,8)\n",
        "f1=(G*M*m)\n",
        "f2 = (r**2)\n",
        "f3=f1/f2\n",
        "print(\" \",f3)\n"
      ]
    },
    {
      "cell_type": "code",
      "execution_count": null,
      "metadata": {
        "colab": {
          "base_uri": "https://localhost:8080/"
        },
        "id": "N-pijp0Clywg",
        "outputId": "ebb21ed9-f407-4cc7-f057-c5bc637435d1"
      },
      "outputs": [
        {
          "name": "stdout",
          "output_type": "stream",
          "text": [
            "dict_values(['john', 'medhat', 'mohamed'])\n",
            "dict_keys(['key1', 'key2', 'key3'])\n"
          ]
        }
      ],
      "source": [
        "dict1={\"key1\":\"john\",\"key2\":\"medhat\",\"key3\":\"mohamed\"}\n",
        "print(dict1.values())\n",
        "print(dict1.keys())\n"
      ]
    },
    {
      "cell_type": "code",
      "execution_count": null,
      "metadata": {
        "colab": {
          "base_uri": "https://localhost:8080/"
        },
        "id": "2wn4z4tyLq4m",
        "outputId": "b9ff2116-e206-49c1-f27f-3c55e2942fe2"
      },
      "outputs": [
        {
          "name": "stdout",
          "output_type": "stream",
          "text": [
            "  fady\n",
            "  mohamed\n",
            "  medhat\n",
            "  john\n"
          ]
        }
      ],
      "source": [
        "lst1=[\"fady\",\"mohamed\",\"medhat\",\"john\"]\n",
        "for index in range(4):\n",
        " print(\" \",lst1[index])"
      ]
    },
    {
      "cell_type": "code",
      "execution_count": null,
      "metadata": {
        "colab": {
          "base_uri": "https://localhost:8080/"
        },
        "id": "TClZwSakLrUj",
        "outputId": "08ce17a8-312c-4032-e6d0-a074a7ef7d81"
      },
      "outputs": [
        {
          "name": "stdout",
          "output_type": "stream",
          "text": [
            "please enter the first value:\n",
            "2\n",
            "please the second value:\n",
            "412\n",
            "the result is 414\n"
          ]
        }
      ],
      "source": [
        "num1=input(\"please enter the first value:\\n\")\n",
        "num2=input(\"please the second value:\\n\")\n",
        "num3=int(num1)+int(num2)\n",
        "print(\"the result is\",num3 )\n",
        "\n",
        "\n"
      ]
    },
    {
      "cell_type": "code",
      "execution_count": null,
      "metadata": {
        "colab": {
          "base_uri": "https://localhost:8080/"
        },
        "id": "buCkCJ9dLrgQ",
        "outputId": "18c11b90-8991-411a-b80a-711617b5947b"
      },
      "outputs": [
        {
          "name": "stdout",
          "output_type": "stream",
          "text": [
            "enter the first number:\n",
            "\n",
            "5\n",
            "enter the second number:\n",
            "\n",
            "2\n",
            "enter the operator:\n",
            "\n",
            "//\n"
          ]
        },
        {
          "data": {
            "text/plain": [
              "2.0"
            ]
          },
          "execution_count": 48,
          "metadata": {},
          "output_type": "execute_result"
        }
      ],
      "source": [
        "def Simplecalc(num1,num2,operator):\n",
        "  if operator == '/':\n",
        "   num3=float(num1) / float(num2)\n",
        "   return num3\n",
        "  elif operator == '+':\n",
        "    num3=float(num1) + float(num2)\n",
        "    return num3\n",
        "  elif operator == '**' :\n",
        "    num3=float(num1) ** float(num2)\n",
        "    return num3\n",
        "  elif operator == '-' :\n",
        "    num3=float(num1) - float(num2)\n",
        "    return num3\n",
        "  elif operator == '//' :\n",
        "    num3=float(num1) // float(num2)\n",
        "    return num3\n",
        "  elif operator == '%' :\n",
        "    num3=float(num1) % float(num2)\n",
        "    return num3\n",
        "  else:\n",
        "    return 0;\n",
        "\n",
        "\n",
        "print('enter the first number:\\n')\n",
        "num1=input()\n",
        "print('enter the second number:\\n')\n",
        "num2=input()\n",
        "print(\"enter the operator:\\n\")\n",
        "operator:str=input()\n",
        "Simplecalc(num1,num2,operator)\n"
      ]
    },
    {
      "cell_type": "code",
      "execution_count": null,
      "metadata": {
        "colab": {
          "base_uri": "https://localhost:8080/"
        },
        "id": "7mTOO2iDnc3G",
        "outputId": "e67ffe69-ba57-4e16-913e-becb755c6c7f"
      },
      "outputs": [
        {
          "name": "stdout",
          "output_type": "stream",
          "text": [
            "all computer models are Appel brand\n",
            "\n",
            "the pc criteria is i3 cpu and gtx 950 gpu and 8 GB ram\n",
            "the year of production is 2016\n",
            "the tools types are mouse1 and keyboard1\n",
            "the monitor type is monitor1 \n",
            "**********************************************************\n",
            "the pc criteria is i5 cpu and gtx 1080 gpu and 16 GB ram\n",
            "the year of production is 2018\n",
            "the tools types are mouse2 and keyboard2\n",
            "the monitor type is monitor2 \n",
            "**********************************************************\n",
            "the pc criteria is core2duo cpu and gt 610 gpu and 6 GB ram\n",
            "the year of production is 2015\n",
            "the tools types are mouse3 and keyboard3\n",
            "the monitor type is monitor3 \n",
            "**********************************************************\n",
            "the pc criteria is i7 cpu and rtx 3090 gpu and 16 GB ram\n",
            "the year of production is 2022\n",
            "the tools types are mouse4 and keyboard4\n",
            "the monitor type is monitor4 \n",
            "**********************************************************\n",
            "the pc criteria is i7 cpu and rtx 1080ti gpu and 32 GB ram\n",
            "the year of production is 2019\n",
            "the tools types are mouse5 and keyboard5\n",
            "the monitor type is monitor5 \n",
            "**********************************************************\n",
            "the pc criteria is i7 cpu and gtx1080 gpu and 32 GB ram\n",
            "the year of production is 2021\n",
            "the tools types are mouse6 and keyboard6\n",
            "the monitor type is monitor6 \n",
            "**********************************************************\n"
          ]
        }
      ],
      "source": [
        "class computer :\n",
        "  Computer_Model : str ='unknown'\n",
        "  def __init__(self,cpu,ram,gpu,year) :\n",
        "    self.cpu=cpu\n",
        "    self.gpu=gpu\n",
        "    self.ram=ram\n",
        "    self.year=year\n",
        "  @classmethod  \n",
        "  def model(cls) :\n",
        "    cls.Computer_Model=\"Appel\"\n",
        "    return cls.Computer_Model\n",
        "\n",
        "com1=computer('i3',8,'gtx 950',2016)\n",
        "com2=computer('i5',16,'gtx 1080',2018)\n",
        "com3=computer('core2duo',6,'gt 610',2015)\n",
        "com4=computer('i7',16,'rtx 3090',2022)\n",
        "com5=computer('i7',32,'rtx 1080ti',2019)\n",
        "com6=computer('i7',32,'gtx1080',2021)\n",
        "print(f\"all computer models are {computer.model()} brand\")\n",
        "print(\"\")\n",
        "\n",
        "\n",
        "\n",
        "class tools(computer) :\n",
        "  def __init__(self,cpu,gpu,ram,year,monitor,keyboard,mouse):\n",
        "    super(). __init__(cpu,gpu,ram,year)\n",
        "    self.monitor=monitor\n",
        "    self.mouse=mouse\n",
        "    self.keyboard=keyboard\n",
        "  def Tool_Type(self):\n",
        "    print(f\"the pc criteria is {self.cpu} cpu and {self.gpu} gpu and {self.ram} GB ram\")\n",
        "    print(f\"the year of production is {self.year}\")\n",
        "    print(f\"the tools types are {self.keyboard} and {self.mouse}\")\n",
        "    print(f\"the monitor type is {self.monitor} \")\n",
        "    print('**********************************************************')\n",
        "\n",
        "   \n",
        "\n",
        "tools1=tools('i3',8,'gtx 950',2016,'monitor1','mouse1','keyboard1')\n",
        "tools2=tools('i5',16,'gtx 1080',2018,'monitor2','mouse2','keyboard2')    \n",
        "tools3=tools('core2duo',6,'gt 610',2015,'monitor3','mouse3','keyboard3')    \n",
        "tools4=tools('i7',16,'rtx 3090',2022,'monitor4','mouse4','keyboard4')    \n",
        "tools5=tools('i7',32,'rtx 1080ti',2019,'monitor5','mouse5','keyboard5')    \n",
        "tools6=tools('i7',32,'gtx1080',2021,'monitor6','mouse6','keyboard6')    \n",
        "\n",
        "tools1.Tool_Type()\n",
        "tools2.Tool_Type()\n",
        "tools3.Tool_Type()\n",
        "tools4.Tool_Type()\n",
        "tools5.Tool_Type()\n",
        "tools6.Tool_Type()\n",
        "\n"
      ]
    },
    {
      "cell_type": "code",
      "execution_count": null,
      "metadata": {
        "colab": {
          "base_uri": "https://localhost:8080/"
        },
        "id": "gJwvdcK0ndl2",
        "outputId": "c9d51442-875f-4a6a-e72d-29113998217c"
      },
      "outputs": [
        {
          "name": "stdout",
          "output_type": "stream",
          "text": [
            "{('Fady', 4, 40), ('John', 1, 50), ('David', 2, 70), ('Matthew', 3, 60)}\n",
            "\n",
            "\n",
            "('Fady', 'John', 'David', 'Matthew')\n",
            "(4, 1, 2, 3)\n",
            "(40, 50, 70, 60)\n"
          ]
        }
      ],
      "source": [
        "# initializing lists\n",
        "name = [\"Fady\", \"John\", \"Matthew\", \"David\"]\n",
        "roll_no = [4, 1, 3, 2]\n",
        "marks = [40, 50, 60, 70]\n",
        " \n",
        "# using zip() to map values\n",
        "mapped = zip(name, roll_no, marks)\n",
        " \n",
        "arranged = set(mapped)\n",
        " \n",
        "print(arranged)\n",
        "print(\"\\n\")\n",
        " \n",
        "# unzipping values\n",
        "namz, roll_noz, marksz = zip(*arranged)\n",
        " \n",
        "\n",
        "print(namz)\n",
        "print(roll_noz)\n",
        "print(marksz)"
      ]
    },
    {
      "cell_type": "code",
      "execution_count": null,
      "metadata": {
        "colab": {
          "base_uri": "https://localhost:8080/"
        },
        "id": "wcM6Jo1nBfI9",
        "outputId": "a58d8ebc-3de8-42e8-a5e3-55b65ee01cd8"
      },
      "outputs": [
        {
          "name": "stdout",
          "output_type": "stream",
          "text": [
            "[4, 3, 10, 4]\n"
          ]
        }
      ],
      "source": [
        "def multip1(arr1,arr2):\n",
        " arr3=[] \n",
        " return [arr1_i*arr2_i for arr1_i,arr2_i in zip(arr1,arr2)]\n",
        "\n",
        "\n",
        "arr1=[1,3,2,2]\n",
        "arr2=[4,1,5,2]\n",
        "arr3=multip1([1,3,2,2],[4,1,5,2])\n",
        "print(arr3)\n",
        "\n",
        "\n"
      ]
    },
    {
      "cell_type": "code",
      "execution_count": null,
      "metadata": {
        "colab": {
          "base_uri": "https://localhost:8080/"
        },
        "id": "Pg5cbS7cBfR4",
        "outputId": "2de75317-43ca-4094-d4dc-4709f41aefd1"
      },
      "outputs": [
        {
          "name": "stdout",
          "output_type": "stream",
          "text": [
            "please enter a value\n",
            "2\n",
            "[2, 4, 8, 12, 6]\n"
          ]
        }
      ],
      "source": [
        "def scalar(v1,num):\n",
        " x=[]  \n",
        " for i in v1:\n",
        "   x.append(int(i)*int(num))\n",
        " return x  \n",
        "\n",
        "num=input(\"please enter a value\\n\")\n",
        "print(scalar([1,2,4,6,3],num))    \n"
      ]
    },
    {
      "cell_type": "code",
      "execution_count": null,
      "metadata": {
        "colab": {
          "base_uri": "https://localhost:8080/"
        },
        "id": "knPnTySCPzhR",
        "outputId": "163c3ca4-b55b-4567-a251-4646c28fec2d"
      },
      "outputs": [
        {
          "name": "stdout",
          "output_type": "stream",
          "text": [
            "(3, 4)\n"
          ]
        }
      ],
      "source": [
        "def shape(x):   \n",
        " num_rows=len(x)   # number of rows\n",
        " num_columns=len(x[0]) #number of elements in each row=num of col per row\n",
        " return num_rows,num_columns\n",
        "\n",
        "x=[[1,2,2,3],\n",
        "   [1,5,2,4],\n",
        "   [5,4,3,7]]\n",
        "\n",
        "print(shape(x))  \n",
        "\n",
        "\n",
        "\n"
      ]
    },
    {
      "cell_type": "code",
      "execution_count": null,
      "metadata": {
        "colab": {
          "base_uri": "https://localhost:8080/"
        },
        "id": "Ovixb0u5Pzim",
        "outputId": "b1eb7fcf-4e1b-42ea-c3f5-d7f65df82d14"
      },
      "outputs": [
        {
          "name": "stdout",
          "output_type": "stream",
          "text": [
            "[0, 3, 15, 8, 3, 6, 5, 21, 14]\n"
          ]
        }
      ],
      "source": [
        "def matrix_multip2(a,b):\n",
        "  c=[]\n",
        "  for i in range(len(a)):\n",
        "    for j in range(len(a[i])): \n",
        "      # for each element (j) in ith row in matrix a : add a[i][j]+b[i][j] :\n",
        "     c.append(a[i][j]*b[i][j])\n",
        "  return c\n",
        "\n",
        "a=[[0,3,5],\n",
        "   [4,3,2],\n",
        "   [1,7,2]]\n",
        "\n",
        "b=[[1,1,3],\n",
        "   [2,1,3],\n",
        "   [5,3,7]]\n",
        "\n",
        "print(matrix_multip2(a,b))    "
      ]
    },
    {
      "cell_type": "code",
      "execution_count": null,
      "metadata": {
        "colab": {
          "base_uri": "https://localhost:8080/"
        },
        "id": "SR6J7GbkwoKO",
        "outputId": "96baecdb-7cb4-4a25-9598-f530fc1629cc"
      },
      "outputs": [
        {
          "name": "stdout",
          "output_type": "stream",
          "text": [
            "[7, 7, 7, 2, 5, 6, 9, 10, 4]\n"
          ]
        }
      ],
      "source": [
        "def matrix_add(a,b):\n",
        "  c=[]\n",
        "  for i in range(len(b)):\n",
        "    for j in range(len(b[i])):\n",
        "      c.append(a[i][j]+b[i][j])\n",
        "  return c\n",
        "\n",
        "a=[[1,4,5],\n",
        "   [1,3,2],\n",
        "   [2,6,2]]\n",
        "\n",
        "b=[[6,3,2],\n",
        "   [1,2,4],\n",
        "   [7,4,2]]\n",
        "\n",
        "print(matrix_add(a,b))"
      ]
    },
    {
      "cell_type": "code",
      "execution_count": null,
      "metadata": {
        "colab": {
          "base_uri": "https://localhost:8080/"
        },
        "id": "MXNNSC18woMq",
        "outputId": "aac91661-4aae-4295-cd0a-d95246d3a00b"
      },
      "outputs": [
        {
          "name": "stdout",
          "output_type": "stream",
          "text": [
            "[0.0, 1.5, 2.5, 2.0, 1.5, 1.0]\n"
          ]
        }
      ],
      "source": [
        "def matrix_multisc(a,b):\n",
        "  c=[]\n",
        "  for i in range(len(a)):\n",
        "    for j in range(len(a[i])): \n",
        "      # for each element (j) in ith row in matrix a : add a[i][j]+b[i][j] :\n",
        "     c.append(a[i][j] * b)\n",
        "  return c\n",
        "\n",
        "a=[[0,3,5],\n",
        "   [4,3,2]]\n",
        "\n",
        "b=.5\n",
        "\n",
        "print(matrix_multisc(a,b))    "
      ]
    },
    {
      "cell_type": "code",
      "execution_count": null,
      "metadata": {
        "colab": {
          "base_uri": "https://localhost:8080/"
        },
        "id": "E3tfujCXwoRN",
        "outputId": "25950fca-2107-437e-d837-504c9e224727"
      },
      "outputs": [
        {
          "name": "stdout",
          "output_type": "stream",
          "text": [
            "[-5, 1, 3, 0, 1, -2, -5, 2, 0]\n"
          ]
        }
      ],
      "source": [
        "def matrix_sub(a,b):\n",
        "  c=[]\n",
        "  for i in range(len(b)):\n",
        "    for j in range(len(b[i])):\n",
        "      c.append(a[i][j]-b[i][j])\n",
        "  return c\n",
        "\n",
        "a=[[1,4,5],\n",
        "   [1,3,2],\n",
        "   [2,6,2]]\n",
        "\n",
        "b=[[6,3,2],\n",
        "   [1,2,4],\n",
        "   [7,4,2]]\n",
        "\n",
        "print(matrix_sub(a,b))"
      ]
    },
    {
      "cell_type": "code",
      "execution_count": null,
      "metadata": {
        "colab": {
          "base_uri": "https://localhost:8080/"
        },
        "id": "tDPMekdlvk0-",
        "outputId": "7f777e7c-1b09-4461-f747-2cbf6b77965c"
      },
      "outputs": [
        {
          "name": "stdout",
          "output_type": "stream",
          "text": [
            "matrix addition:  [5, 6, 3, 14, 5, 3, 8, 6, 7]\n",
            "matrix subtraction:  [-3, 2, 1, 2, -1, -1, 6, 2, -3]\n",
            "matrix vector multiplication:  [3, 12, 6, 16, 4, 2, 7, 4, 2]\n",
            "matrix scalar multiplication:  [2, 8, 4, 16, 4, 2, 14, 8, 4]\n",
            "matrix multiplication:  [4, 8, 2, 48, 6, 2, 7, 8, 10]\n"
          ]
        }
      ],
      "source": [
        "#operations on matrices\n",
        "\n",
        "def matrix_add(v1,v2):\n",
        "  v3=[]\n",
        "  for i in range(len(v1)):\n",
        "    for j in range(len(v1[i])):\n",
        "      v3.append(v1[i][j]+v2[i][j])\n",
        "  return v3\n",
        "\n",
        "def matrix_sub(v1,v2):\n",
        "  v3=[]\n",
        "  for i in range(len(v1)):\n",
        "    for j in range(len(v1[i])):\n",
        "      v3.append(v1[i][j]-v2[i][j])\n",
        "  return v3\n",
        "\n",
        "def matrix_scalar_multip(v1,c):\n",
        "  v3=[]\n",
        "  for i in range(len(v1)):\n",
        "    for j in range(len(v1[i])):\n",
        "      v3.append(v1[i][j]*c)\n",
        "  return v3\n",
        "\n",
        "def matrix_vector_multip(v1,v3):\n",
        "  v4=[]\n",
        "  for i in range(len(v1)):\n",
        "    for j in range(len(v1[i])):\n",
        "      v4.append(v1[i][j]*v3[i])\n",
        "  return v4\n",
        "\n",
        "def matrix_multip(v1,v2):\n",
        "  v3=[]\n",
        "  for i in range(len(v1)):\n",
        "    for j in range(len(v1[i])):\n",
        "      v3.append(v1[i][j]*v2[i][j])\n",
        "  return v3\n",
        "\n",
        "v1=[[1,4,2],[8,2,1],[7,4,2]]\n",
        "v2=[[4,2,1],[6,3,2],[1,2,5]]\n",
        "c=2\n",
        "v3=[3,2,1]\n",
        "\n",
        "print(\"matrix addition: \",matrix_add(v1,v2))\n",
        "print(\"matrix subtraction: \",matrix_sub(v1,v2))\n",
        "print(\"matrix vector multiplication: \",matrix_vector_multip(v1,v3))\n",
        "print(\"matrix scalar multiplication: \",matrix_scalar_multip(v1,c))\n",
        "print(\"matrix multiplication: \",matrix_multip(v1,v2))"
      ]
    },
    {
      "cell_type": "code",
      "execution_count": null,
      "metadata": {
        "id": "iBX1FmVD19Ix"
      },
      "outputs": [],
      "source": []
    },
    {
      "cell_type": "code",
      "execution_count": null,
      "metadata": {
        "colab": {
          "base_uri": "https://localhost:8080/"
        },
        "id": "jci0R8mU2wR3",
        "outputId": "963da16b-808f-436e-8b4b-405da5177e5f"
      },
      "outputs": [
        {
          "name": "stdout",
          "output_type": "stream",
          "text": [
            "[[1. 1. 1.]\n",
            " [1. 1. 1.]]\n",
            "\n",
            " (2, 3)\n",
            "\n",
            " int64\n",
            "\n",
            " [[9.9e-324 4.9e-324]\n",
            " [1.5e-323 2.5e-323]\n",
            " [9.9e-324 4.9e-324]]\n",
            "\n",
            " [[1 2 3]\n",
            " [5 3 5]]\n",
            "[[0.]\n",
            " [0.]]\n",
            "\n",
            " (2, 1)\n",
            "\n",
            " float64\n",
            "\n",
            " [[2 1 3]\n",
            " [5 2 1]]\n",
            "0\n",
            "1\n",
            "[[2]\n",
            " [7]\n",
            " [9]]\n",
            "\n",
            " [[9 3 5]]\n",
            "\n",
            " [[2 5 3]\n",
            " [7 0 1]]\n",
            "\n",
            "\n",
            "\n",
            "\n",
            "[['a' '23']\n",
            " ['b' '24']\n",
            " ['c' '25']\n",
            " ['d' '26']\n",
            " ['e' '27']\n",
            " ['f' '28']\n",
            " ['g' '29']\n",
            " ['h' '20']]\n",
            "['1' '1' '0' '0' '1' '0' '1' '1']\n",
            "[['i' '30']\n",
            " ['j' '33']]\n",
            "['0' '1']\n"
          ]
        }
      ],
      "source": [
        "from numpy import ones\n",
        "from numpy import empty\n",
        "from numpy import array\n",
        "from numpy import zeros\n",
        "import numpy as np\n",
        "v5=[[1,4,5],[2,1,4]]\n",
        "a=empty([3,2])\n",
        "arr1=array([[1,2,3],[5,3,5]])\n",
        "a1=ones([2,3])\n",
        "a2=zeros([2,1])\n",
        "\n",
        "print(a1)\n",
        "print('\\n',arr1.shape)\n",
        "print('\\n',arr1.dtype)\n",
        "print('\\n',a)\n",
        "print('\\n',arr1)\n",
        "\n",
        "arr2=np.empty([2,2])\n",
        "arr2=np.zeros([2,1])\n",
        "arr2=np.array([[2,1,3],[5,2,1]])\n",
        "\n",
        "print(a2)\n",
        "print('\\n',a2.shape)\n",
        "print('\\n',a2.dtype)\n",
        "print('\\n',arr2)\n",
        "\n",
        "\n",
        "a3=np.array([2,5,3])\n",
        "a4=np.array([7,0,1])\n",
        "a5=np.array([9,3,5])\n",
        "a6=np.vstack((a3,a4,a5))\n",
        "print(a6[1,1])\n",
        "\n",
        "print(a6[1][2])\n",
        "print(a6[:,:1])\n",
        "split=2\n",
        "train=a6[split:,:]\n",
        "test=a6[:split,:]\n",
        "print('\\n',train)\n",
        "print('\\n',test)\n",
        "print('\\n\\n\\n')\n",
        "input_train,output_train,input_test,output_test=train_test_split(data,80)\n",
        "data=np.array([['a',23,1],['b',24,1],['c',25,0],['d',26,0],['e',27,1],['f',28,0],\n",
        "               ['g',29,1],['h',20,1],['i',30,0],['j',33,1]])\n",
        "def train_test_split(data,train_percent):\n",
        "  midpoint=train_percent*len(data)/100\n",
        "  train,test=data[:int(midpoint),:],data[int(midpoint):,:]\n",
        "  X_train,Y_train=train[:,:-1],train[:,-1]\n",
        "  X_test,Y_test=test[:,:-1],test[:,-1]\n",
        "  return X_train,Y_train,X_test,Y_test\n",
        "\n",
        "print(input_train)\n",
        "print(output_train)\n",
        "print(input_test)\n",
        "print(output_test)"
      ]
    },
    {
      "cell_type": "code",
      "execution_count": null,
      "metadata": {
        "colab": {
          "base_uri": "https://localhost:8080/"
        },
        "id": "xrX4WDtU2wT7",
        "outputId": "70b1a44b-137a-49a6-e4d8-68d59dd6b954"
      },
      "outputs": [
        {
          "output_type": "stream",
          "name": "stdout",
          "text": [
            "[['a' '23']\n",
            " ['b' '24']\n",
            " ['c' '25']\n",
            " ['d' '26']\n",
            " ['e' '27']\n",
            " ['f' '28']\n",
            " ['g' '29']]\n",
            "['1' '1' '0' '0' '1' '0' '1']\n",
            "\n",
            " [['h' '20']\n",
            " ['i' '30']\n",
            " ['j' '33']]\n",
            "['1' '1' '1']\n",
            "Rows:  3\n",
            "columns:  3\n",
            "\n",
            "\n",
            "\n",
            "\n",
            "[[[ 1]\n",
            "  [ 2]\n",
            "  [ 4]]\n",
            "\n",
            " [[ 6]\n",
            "  [ 2]\n",
            "  [ 2]]\n",
            "\n",
            " [[66]\n",
            "  [33]\n",
            "  [11]]]\n"
          ]
        }
      ],
      "source": [
        "import numpy as np\n",
        "\n",
        "def train_test_split(data,train_percent):\n",
        "  midpoint=train_percent*len(data)/100\n",
        "  train,test=data[:int(midpoint),:],data[int(midpoint):,:]\n",
        "  X_train,y_train=train[:,:-1],train[:, -1]\n",
        "  X_test,y_test=test[:,:-1],test[:, -1]\n",
        "  return X_train,y_train,X_test,y_test\n",
        "\n",
        "data=np.array([['a',23,1],['b',24,1],['c',25,0],['d',26,0],['e',27,1],['f',28,0],['g',29,1]\n",
        "       ,['h',20,1],['i',30,1],['j',33,1]])\n",
        "input_train,output_train,input_test,output_test=train_test_split(data,75)\n",
        "\n",
        "print(input_train)\n",
        "print(output_train)\n",
        "print('\\n',input_test)\n",
        "print(output_test)\n",
        "\n",
        "data = np.array([[1,2,4],[6,2,2],[66,33,11]])\n",
        "mod=data.reshape(data.shape[0],data.shape[1],1)\n",
        "print('Rows: ',data.shape[0])\n",
        "print('columns: ',data.shape[1])\n",
        "print('\\n\\n\\n')\n",
        "print(mod)"
      ]
    },
    {
      "cell_type": "code",
      "execution_count": null,
      "metadata": {
        "id": "OD6DEjww2wYE",
        "colab": {
          "base_uri": "https://localhost:8080/"
        },
        "outputId": "ec0a3ffd-6622-4687-8588-30a09ed661b5"
      },
      "outputs": [
        {
          "output_type": "stream",
          "name": "stdout",
          "text": [
            "[[[[15 10  5]\n",
            "   [35 10  5]\n",
            "   [35 15 20]]\n",
            "\n",
            "  [[ 6  4  2]\n",
            "   [14  4  2]\n",
            "   [14  6  8]]\n",
            "\n",
            "  [[ 9  6  3]\n",
            "   [21  6  3]\n",
            "   [21  9 12]]]\n",
            "\n",
            "\n",
            " [[[15 10  5]\n",
            "   [35 10  5]\n",
            "   [35 15 20]]\n",
            "\n",
            "  [[ 6  4  2]\n",
            "   [14  4  2]\n",
            "   [14  6  8]]\n",
            "\n",
            "  [[ 9  6  3]\n",
            "   [21  6  3]\n",
            "   [21  9 12]]]\n",
            "\n",
            "\n",
            " [[[21 14  7]\n",
            "   [49 14  7]\n",
            "   [49 21 28]]\n",
            "\n",
            "  [[12  8  4]\n",
            "   [28  8  4]\n",
            "   [28 12 16]]\n",
            "\n",
            "  [[ 6  4  2]\n",
            "   [14  4  2]\n",
            "   [14  6  8]]]]\n",
            "[[0. 0. 1.]\n",
            " [0. 1. 0.]\n",
            " [1. 0. 0.]]\n",
            "[[1.         0.         0.        ]\n",
            " [0.71428571 1.         0.        ]\n",
            " [0.71428571 1.         1.        ]]\n",
            "[[ 7.          4.          2.        ]\n",
            " [ 0.         -0.85714286  1.57142857]\n",
            " [ 0.          0.          0.        ]]\n"
          ]
        }
      ],
      "source": [
        "from scipy.linalg import lu\n",
        "import numpy as np\n",
        "\n",
        "A=np.array([[5,2,3]\n",
        "            ,[5,2,3]\n",
        "            ,[7,4,2]])\n",
        "\n",
        "B=np.array([[3,2,1]\n",
        "            ,[7,2,1]\n",
        "            ,[7,3,4]])\n",
        "C=np.tensordot(A,B,axes=0)\n",
        "P,L,U=lu(A)\n",
        "print(C)\n",
        "print(P)\n",
        "print(L)\n",
        "print(U)\n"
      ]
    },
    {
      "cell_type": "code",
      "execution_count": null,
      "metadata": {
        "id": "-GoW9F1D2wqe",
        "colab": {
          "base_uri": "https://localhost:8080/"
        },
        "outputId": "866c190b-90b4-4161-d1bb-460100682196"
      },
      "outputs": [
        {
          "output_type": "stream",
          "name": "stdout",
          "text": [
            "6\n"
          ]
        }
      ],
      "source": [
        "var1,var2,var3=3,4,6\n",
        "max_var=max(var1,var2,var3)\n",
        "print(max_var)"
      ]
    },
    {
      "cell_type": "code",
      "execution_count": null,
      "metadata": {
        "id": "Lo52ciXV2w5O",
        "colab": {
          "base_uri": "https://localhost:8080/"
        },
        "outputId": "9f6b5b6f-59f9-4eaf-95db-c647f5ce4c2c"
      },
      "outputs": [
        {
          "output_type": "stream",
          "name": "stdout",
          "text": [
            "['kiwi', 'mango']\n",
            "['cherry', 'orange', 'kiwi']\n"
          ]
        }
      ],
      "source": [
        "fruits=[\"orange\",\"appel\",\"mango\"]\n",
        "x=fruits.remove(\"appel\")\n",
        "fruits[0]=\"kiwi\"\n",
        "print(fruits)\n",
        "\n",
        "fruits = [\"apple\", \"banana\", \"cherry\", \"orange\", \"kiwi\", \"melon\", \"mango\"]\n",
        "print(fruits[2:5])\n",
        "\n"
      ]
    },
    {
      "cell_type": "code",
      "execution_count": null,
      "metadata": {
        "id": "HEUZEB612w7e",
        "colab": {
          "base_uri": "https://localhost:8080/"
        },
        "outputId": "9a3d89a1-3175-4cb0-b5a9-61c499b916e5"
      },
      "outputs": [
        {
          "output_type": "stream",
          "name": "stdout",
          "text": [
            "{'banana', 'cherry'}\n"
          ]
        }
      ],
      "source": [
        "fruits = {\"apple\", \"banana\", \"cherry\"}\n",
        "x=fruits.remove(\"apple\")\n",
        "print(fruits)"
      ]
    },
    {
      "cell_type": "code",
      "execution_count": null,
      "metadata": {
        "id": "jtHWqmLj2sTm",
        "colab": {
          "base_uri": "https://localhost:8080/"
        },
        "outputId": "b19afab5-a765-492c-bc99-0c14301680ba"
      },
      "outputs": [
        {
          "output_type": "stream",
          "name": "stdout",
          "text": [
            "{}\n"
          ]
        }
      ],
      "source": [
        "car ={\n",
        "  \"brand\": \"Ford\",\n",
        "  \"model\": \"Mustang\",\n",
        "  \"year\": 1964\n",
        "}\n",
        "\n",
        "x=car.pop(\"model\")\n",
        "cl=car.clear()\n",
        "print(car)"
      ]
    },
    {
      "cell_type": "code",
      "execution_count": null,
      "metadata": {
        "id": "RPEgdnsL2sVR",
        "colab": {
          "base_uri": "https://localhost:8080/"
        },
        "outputId": "606ed990-4d82-424d-a52e-245ec4d56418"
      },
      "outputs": [
        {
          "output_type": "stream",
          "name": "stdout",
          "text": [
            "3\n",
            "3\n"
          ]
        }
      ],
      "source": [
        "i=int(input())\n",
        "if i < 6:\n",
        "    print(i)\n"
      ]
    },
    {
      "cell_type": "code",
      "execution_count": null,
      "metadata": {
        "id": "HlTH5fx12sXH",
        "colab": {
          "base_uri": "https://localhost:8080/"
        },
        "outputId": "e2314302-30fd-427d-f9f4-190314ae6cdb"
      },
      "outputs": [
        {
          "output_type": "stream",
          "name": "stdout",
          "text": [
            "1\n",
            "2\n",
            "4\n",
            "5\n",
            "6\n",
            "7\n",
            "8\n",
            "9\n"
          ]
        }
      ],
      "source": [
        "for i in range(1,10):\n",
        "    if (i == 3):\n",
        "      continue\n",
        "    else:\n",
        "      print(i)"
      ]
    },
    {
      "cell_type": "code",
      "execution_count": null,
      "metadata": {
        "id": "VhA8_BWf2sYi",
        "colab": {
          "base_uri": "https://localhost:8080/"
        },
        "outputId": "1c3433b7-986b-48be-f6da-10095dc92979"
      },
      "outputs": [
        {
          "output_type": "stream",
          "name": "stdout",
          "text": [
            "Jello World\n",
            "first\n"
          ]
        },
        {
          "output_type": "execute_result",
          "data": {
            "text/plain": [
              "8"
            ]
          },
          "metadata": {},
          "execution_count": 172
        }
      ],
      "source": [
        "txt=\"Hello World\"\n",
        "x=txt.replace(\"H\",\"J\")\n",
        "print(x)\n",
        "\n",
        "def my_function(x,y):\n",
        "    return x\n",
        "\n",
        "print(my_function(\"first\",\"second\"))\n",
        "\n",
        "\n",
        "\n",
        "z=lambda x:x+5\n",
        "z(3)\n",
        " "
      ]
    },
    {
      "cell_type": "code",
      "source": [],
      "metadata": {
        "id": "9pIZ7F30E_Yf"
      },
      "execution_count": null,
      "outputs": []
    },
    {
      "cell_type": "code",
      "source": [
        "x = True\n",
        "print(type(x))\n"
      ],
      "metadata": {
        "colab": {
          "base_uri": "https://localhost:8080/"
        },
        "id": "AJ9Xed4hE_lc",
        "outputId": "f6aeb21a-4842-4aa8-e8cf-3c257ed76e6c"
      },
      "execution_count": null,
      "outputs": [
        {
          "output_type": "stream",
          "name": "stdout",
          "text": [
            "<class 'bool'>\n"
          ]
        }
      ]
    },
    {
      "cell_type": "code",
      "source": [
        "def sum(x,y):\n",
        "    z=x+y\n",
        "    return z\n",
        "z=sum(5,10)\n",
        "x,y,z=z,z,z\n",
        "print(x,y,z)"
      ],
      "metadata": {
        "colab": {
          "base_uri": "https://localhost:8080/"
        },
        "id": "S_z8FFazFbN-",
        "outputId": "43502380-6459-467c-afde-49431748c476"
      },
      "execution_count": null,
      "outputs": [
        {
          "output_type": "stream",
          "name": "stdout",
          "text": [
            "15 15 15\n"
          ]
        }
      ]
    },
    {
      "cell_type": "code",
      "source": [
        "txt = \"             Hello World \"\n",
        "x=txt.strip()\n",
        "print(x)"
      ],
      "metadata": {
        "colab": {
          "base_uri": "https://localhost:8080/"
        },
        "id": "Xqn8BZVxFbQM",
        "outputId": "2e6fab7c-e015-43cc-8336-a6e8d2fb5e0e"
      },
      "execution_count": null,
      "outputs": [
        {
          "output_type": "stream",
          "name": "stdout",
          "text": [
            "Hello World\n"
          ]
        }
      ]
    },
    {
      "cell_type": "code",
      "source": [
        "car ={\n",
        "  \"brand\": \"Ford\",\n",
        "  \"model\": \"Mustang\",\n",
        "  \"year\": 1964\n",
        "}\n",
        "\n",
        "car2=car.pop(\"model\")\n",
        "print(car)\n"
      ],
      "metadata": {
        "colab": {
          "base_uri": "https://localhost:8080/"
        },
        "id": "fLEMqHhWFbSq",
        "outputId": "870e6ad5-51a6-4467-a403-d9a56f9fd078"
      },
      "execution_count": null,
      "outputs": [
        {
          "output_type": "stream",
          "name": "stdout",
          "text": [
            "{'brand': 'Ford', 'year': 1964}\n"
          ]
        }
      ]
    },
    {
      "cell_type": "code",
      "source": [
        "from numpy import zeros \n",
        "import numpy as np\n"
      ],
      "metadata": {
        "id": "TTR7PtPAMt3s"
      },
      "execution_count": null,
      "outputs": []
    }
  ],
  "metadata": {
    "colab": {
      "provenance": []
    },
    "kernelspec": {
      "display_name": "Python 3",
      "name": "python3"
    },
    "language_info": {
      "name": "python"
    }
  },
  "nbformat": 4,
  "nbformat_minor": 0
}